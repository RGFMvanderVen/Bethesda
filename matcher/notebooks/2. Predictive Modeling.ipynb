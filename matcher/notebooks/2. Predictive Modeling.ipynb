{
 "cells": [
  {
   "cell_type": "markdown",
   "id": "0",
   "metadata": {},
   "source": [
    "# Bethesda\n",
    "Pipeline for extracting the Bethesda score in PALGA through predictive modeling using the data obtained from the fuzzy string matching pipeline."
   ]
  },
  {
   "cell_type": "code",
   "execution_count": null,
   "id": "1",
   "metadata": {},
   "outputs": [],
   "source": [
    "import matplotlib.pyplot as plt\n",
    "\n",
    "# Models\n",
    "from sklearn.linear_model import LogisticRegression\n",
    "from sklearn.ensemble import RandomForestClassifier\n",
    "import xgboost as xgb\n",
    "\n",
    "# Custom code\n",
    "from matcher import Prediction"
   ]
  },
  {
   "cell_type": "markdown",
   "id": "2",
   "metadata": {},
   "source": [
    "## Load data\n",
    "Load the data generated in the previous notebook."
   ]
  },
  {
   "cell_type": "code",
   "execution_count": null,
   "id": "3",
   "metadata": {},
   "outputs": [],
   "source": [
    "# Prepare data\n",
    "predictor = Prediction(\"results.xlsx\")\n",
    "X, y, X_train, y_train, X_test, y_test, X_eval, y_eval = predictor.split_data()"
   ]
  },
  {
   "cell_type": "markdown",
   "id": "4",
   "metadata": {},
   "source": [
    "## Modeling\n",
    "Run any number of predictive models and extract their 5-fold cross-validation scores (F1, both micro and macro to account for class imbalance), a classification report, and a confusion matrix for further exploration."
   ]
  },
  {
   "cell_type": "code",
   "execution_count": null,
   "id": "5",
   "metadata": {},
   "outputs": [],
   "source": [
    "clfs = [\n",
    "    LogisticRegression(random_state=0, max_iter=500, dual=True, solver=\"liblinear\"),\n",
    "    RandomForestClassifier(random_state=0),\n",
    "    xgb.XGBClassifier(tree_method=\"hist\"),\n",
    "]\n",
    "pipelines = [predictor.create_pipeline(clf) for clf in clfs]\n",
    "cv_scores, reports, displays = predictor.evaluate(\n",
    "    pipelines, X_train, y_train, X_test, y_test\n",
    ")"
   ]
  },
  {
   "cell_type": "markdown",
   "id": "6",
   "metadata": {},
   "source": [
    "**Display Confusion Matrix**"
   ]
  },
  {
   "cell_type": "code",
   "execution_count": null,
   "id": "7",
   "metadata": {},
   "outputs": [],
   "source": [
    "displays[0].plot()\n",
    "plt.savefig(\"lr.png\", dpi=300)"
   ]
  },
  {
   "cell_type": "markdown",
   "id": "8",
   "metadata": {},
   "source": [
    "## Create Predictions\n",
    "Add the predictions to the previous results by creating a new column with the predictions and their probabilities."
   ]
  },
  {
   "cell_type": "code",
   "execution_count": null,
   "id": "9",
   "metadata": {},
   "outputs": [],
   "source": [
    "# Predict unlabeled data\n",
    "results = predictor.add_predictions(pipelines[0], X, y)\n",
    "results.to_excel(\"results_plus_predictions.xlsx\")"
   ]
  }
 ],
 "metadata": {
  "kernelspec": {
   "display_name": "Python 3 (ipykernel)",
   "language": "python",
   "name": "python3"
  },
  "language_info": {
   "codemirror_mode": {
    "name": "ipython",
    "version": 3
   },
   "file_extension": ".py",
   "mimetype": "text/x-python",
   "name": "python",
   "nbconvert_exporter": "python",
   "pygments_lexer": "ipython3",
   "version": "3.10.0"
  }
 },
 "nbformat": 4,
 "nbformat_minor": 5
}
