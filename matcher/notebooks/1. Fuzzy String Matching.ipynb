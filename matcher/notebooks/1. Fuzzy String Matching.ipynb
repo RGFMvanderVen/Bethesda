{
 "cells": [
  {
   "cell_type": "markdown",
   "id": "0",
   "metadata": {},
   "source": [
    "# Bethesda\n",
    "Pipeline for extracting the Bethesda score in PALGA through fuzzy string matching"
   ]
  },
  {
   "cell_type": "code",
   "execution_count": null,
   "id": "1",
   "metadata": {},
   "outputs": [],
   "source": [
    "import pandas as pd\n",
    "\n",
    "# Fuzzy string matching\n",
    "from rapidfuzz import fuzz\n",
    "from polyfuzz.models import RapidFuzz\n",
    "\n",
    "# Custom code\n",
    "from matcher import MatchEntity, EntityCollection\n",
    "from matcher import preprocess"
   ]
  },
  {
   "cell_type": "markdown",
   "id": "2",
   "metadata": {},
   "source": [
    "#### **Prepare data**\n",
    "Here, we prepare the data such that the main dataframe has a `Conclusie` column from \n",
    "which we can try to extract the Bethesda score. "
   ]
  },
  {
   "cell_type": "code",
   "execution_count": null,
   "id": "3",
   "metadata": {},
   "outputs": [],
   "source": [
    "df = pd.read_excel(\"MY_DATA.xlsx\")\n",
    "docs = preprocess.preprocess_docs(df)"
   ]
  },
  {
   "cell_type": "markdown",
   "id": "4",
   "metadata": {},
   "source": [
    "#### **Match**\n",
    "Below, we can define several matching procedures for finding close matches to the bethesda score. \n",
    "In principle, this algorithm is trying to find the words closest to a `search_term`. The closest words \n",
    "are expected to be the words that contain some variation of the bethesda score. "
   ]
  },
  {
   "cell_type": "code",
   "execution_count": null,
   "id": "5",
   "metadata": {},
   "outputs": [],
   "source": [
    "# Define matching procedure\n",
    "main_matching_alg = RapidFuzz(n_jobs=1, scorer=fuzz.QRatio)\n",
    "to_match = [\n",
    "    MatchEntity(search_term=\"bethesda klasse 1\", ngram=3, matcher=main_matching_alg),\n",
    "    MatchEntity(search_term=\"klasse\", ngram=2, matcher=main_matching_alg),\n",
    "    MatchEntity(search_term=\"bethesda II\", ngram=2, matcher=main_matching_alg),\n",
    "    MatchEntity(\n",
    "        search_term=\"bethesda classificatie II\", ngram=3, matcher=main_matching_alg\n",
    "    ),\n",
    "    MatchEntity(\n",
    "        search_term=\"bethesda categorie II\", ngram=3, matcher=main_matching_alg\n",
    "    ),\n",
    "    # New, used for 'landelijk'\n",
    "    MatchEntity(\n",
    "        search_term=\"bethesda schildklier categorie 1\",\n",
    "        ngram=4,\n",
    "        matcher=main_matching_alg,\n",
    "    ),\n",
    "    MatchEntity(search_term=\"bethesdacategorie 1\", ngram=2, matcher=main_matching_alg),\n",
    "    MatchEntity(search_term=\"bethesdaklasse II\", ngram=2, matcher=main_matching_alg),\n",
    "    MatchEntity(\n",
    "        search_term=\"bethesda classificatie cat 2\", ngram=4, matcher=main_matching_alg\n",
    "    ),\n",
    "    MatchEntity(search_term=\"bethesda cat 2\", ngram=4, matcher=main_matching_alg),\n",
    "    MatchEntity(\n",
    "        search_term=\"bethesda classificatie categorie II\",\n",
    "        ngram=4,\n",
    "        matcher=main_matching_alg,\n",
    "    ),\n",
    "]\n",
    "entity_collection = EntityCollection(to_match)\n",
    "matches = entity_collection.match(docs)"
   ]
  },
  {
   "cell_type": "markdown",
   "id": "6",
   "metadata": {},
   "source": [
    "#### **Extract Bethesda**"
   ]
  },
  {
   "cell_type": "markdown",
   "id": "7",
   "metadata": {},
   "source": [
    "After extracting the closest words to a `search_term`, we extract the Bethesda score from these words. "
   ]
  },
  {
   "cell_type": "code",
   "execution_count": null,
   "id": "8",
   "metadata": {},
   "outputs": [],
   "source": [
    "df[\"Bethesda\"] = preprocess.extract_bethesda_score(matches)\n",
    "df.to_excel(\"results.xlsx\")"
   ]
  }
 ],
 "metadata": {
  "kernelspec": {
   "display_name": "Python 3 (ipykernel)",
   "language": "python",
   "name": "python3"
  },
  "language_info": {
   "codemirror_mode": {
    "name": "ipython",
    "version": 3
   },
   "file_extension": ".py",
   "mimetype": "text/x-python",
   "name": "python",
   "nbconvert_exporter": "python",
   "pygments_lexer": "ipython3",
   "version": "3.10.0"
  }
 },
 "nbformat": 4,
 "nbformat_minor": 5
}
